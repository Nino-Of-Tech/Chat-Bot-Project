{
  "nbformat": 4,
  "nbformat_minor": 0,
  "metadata": {
    "colab": {
      "provenance": []
    },
    "kernelspec": {
      "name": "python3",
      "display_name": "Python 3"
    },
    "language_info": {
      "name": "python"
    }
  },
  "cells": [
    {
      "cell_type": "markdown",
      "source": [
        "## Importing Libraries"
      ],
      "metadata": {
        "id": "H0BIuOvAEyyE"
      }
    },
    {
      "cell_type": "code",
      "source": [
        "import pandas as pd\n",
        "import numpy as np\n",
        "import seaborn as sns\n",
        "import matplotlib.pyplot as plt\n",
        "import re\n",
        "import ast\n",
        "from transformers import BertTokenizer\n",
        "from sklearn.model_selection import train_test_split\n",
        "from sklearn.metrics import accuracy_score, precision_recall_fscore_support, classification_report, confusion_matrix\n",
        "from tqdm import tqdm\n",
        "import torch\n",
        "from transformers import BertForSequenceClassification, AdamW, get_linear_schedule_with_warmup\n",
        "import torch.nn.functional as F\n",
        "from torch.utils.data import TensorDataset, DataLoader, RandomSampler, SequentialSampler\n",
        "\n",
        "import warnings\n",
        "warnings.filterwarnings('ignore')"
      ],
      "metadata": {
        "id": "Y3k_Kf-iB-3Y"
      },
      "execution_count": 20,
      "outputs": []
    },
    {
      "cell_type": "code",
      "source": [
        "# Define some sample tags for the dataset\n",
        "tags = [\n",
        "    \"symptoms\",\n",
        "    \"treatment\",\n",
        "    \"prevention\",\n",
        "    \"diagnosis\",\n",
        "    \"risk_factors\",\n",
        "    \"medications\"\n",
        "]\n",
        "\n",
        "# Define sample question-answer pairs for each tag\n",
        "data = {\n",
        "    \"symptoms\": [\n",
        "        (\"What are the common symptoms of heart disease?\", \"Common symptoms include chest pain, shortness of breath, and fatigue.\"),\n",
        "        (\"Can heart disease cause arm pain?\", \"Yes, heart disease can cause pain that radiates to the arm.\"),\n",
        "        (\"What are the early signs of heart disease?\", \"Early signs include fatigue, shortness of breath, and chest discomfort.\"),\n",
        "        (\"Can heart disease cause leg pain?\", \"Yes, heart disease can cause pain in the legs, especially if there is poor circulation.\"),\n",
        "        (\"Are there any silent symptoms of heart disease?\", \"Yes, some people may experience heart disease with no noticeable symptoms.\"),\n",
        "        (\"What are the symptoms of a heart attack?\", \"Symptoms include chest pain, shortness of breath, nausea, and lightheadedness.\"),\n",
        "        (\"Can heart disease cause back pain?\", \"Yes, back pain can be a symptom, especially in women.\"),\n",
        "        (\"What are the symptoms of heart failure?\", \"Symptoms include shortness of breath, swelling in legs, and fatigue.\"),\n",
        "        (\"Can heart disease cause jaw pain?\", \"Yes, jaw pain can be a symptom of heart disease, particularly in women.\"),\n",
        "        (\"What are the symptoms of coronary artery disease?\", \"Symptoms include chest pain, shortness of breath, and heart palpitations.\"),\n",
        "    ],\n",
        "    \"treatment\": [\n",
        "        (\"What treatments are available for heart disease?\", \"Treatments include lifestyle changes, medications, and surgery.\"),\n",
        "        (\"Can heart disease be treated with medication?\", \"Yes, there are several medications available to treat heart disease.\"),\n",
        "        (\"Is surgery necessary for heart disease?\", \"In some cases, surgery may be required to treat heart disease.\"),\n",
        "        (\"What lifestyle changes can help treat heart disease?\", \"Lifestyle changes include a healthy diet, regular exercise, and quitting smoking.\"),\n",
        "        (\"What are the different types of heart surgeries?\", \"Common types include coronary artery bypass grafting (CABG) and angioplasty.\"),\n",
        "        (\"Can heart disease be reversed?\", \"Some forms of heart disease can be managed and improved with treatment, but not completely reversed.\"),\n",
        "        (\"What role does diet play in treating heart disease?\", \"A heart-healthy diet can significantly improve heart disease outcomes.\"),\n",
        "        (\"How does exercise help in treating heart disease?\", \"Regular exercise helps improve heart function and overall cardiovascular health.\"),\n",
        "        (\"Are there any alternative treatments for heart disease?\", \"Some alternative treatments include acupuncture, yoga, and herbal supplements.\"),\n",
        "        (\"How important is medication adherence in treating heart disease?\", \"Adherence to medication is crucial to effectively manage and treat heart disease.\"),\n",
        "    ],\n",
        "    \"prevention\": [\n",
        "        (\"How can I prevent heart disease?\", \"Prevention methods include a healthy diet, regular exercise, and avoiding smoking.\"),\n",
        "        (\"Can heart disease be prevented with lifestyle changes?\", \"Yes, lifestyle changes can significantly reduce the risk of heart disease.\"),\n",
        "        (\"What dietary changes can help prevent heart disease?\", \"Eating a diet rich in fruits, vegetables, and whole grains can help prevent heart disease.\"),\n",
        "        (\"How does exercise prevent heart disease?\", \"Regular exercise strengthens the heart and improves circulation.\"),\n",
        "        (\"Can quitting smoking prevent heart disease?\", \"Yes, quitting smoking is one of the most effective ways to reduce the risk of heart disease.\"),\n",
        "        (\"What role does stress management play in heart disease prevention?\", \"Managing stress through techniques like meditation and yoga can help prevent heart disease.\"),\n",
        "        (\"Can alcohol consumption affect heart disease risk?\", \"Excessive alcohol consumption can increase the risk of heart disease.\"),\n",
        "        (\"How does maintaining a healthy weight prevent heart disease?\", \"A healthy weight reduces the strain on the heart and lowers risk factors.\"),\n",
        "        (\"What is the impact of high blood pressure on heart disease?\", \"High blood pressure is a major risk factor for heart disease.\"),\n",
        "        (\"Can regular medical check-ups help in preventing heart disease?\", \"Yes, regular check-ups can help detect and manage risk factors early.\"),\n",
        "    ],\n",
        "    \"diagnosis\": [\n",
        "        (\"How is heart disease diagnosed?\", \"Heart disease is diagnosed using tests such as ECG, echocardiogram, and stress tests.\"),\n",
        "        (\"What tests are used to diagnose heart disease?\", \"Common tests include ECG, echocardiogram, and blood tests.\"),\n",
        "        (\"Can heart disease be detected early?\", \"Yes, early detection is possible through regular check-ups and screening tests.\"),\n",
        "        (\"What is an ECG?\", \"An ECG is an electrocardiogram, a test that measures the electrical activity of the heart.\"),\n",
        "        (\"How does an echocardiogram help diagnose heart disease?\", \"An echocardiogram uses ultrasound to create images of the heart, helping diagnose various heart conditions.\"),\n",
        "        (\"What is a stress test?\", \"A stress test evaluates how the heart works during physical activity.\"),\n",
        "        (\"Can blood tests detect heart disease?\", \"Yes, certain blood tests can detect markers that indicate heart disease.\"),\n",
        "        (\"What is a coronary angiography?\", \"A coronary angiography is a procedure that uses contrast dye and X-rays to see how blood flows through the heart's arteries.\"),\n",
        "        (\"How is heart disease diagnosed in women?\", \"Women may have different symptoms, and tests like ECG, echocardiogram, and stress tests are used.\"),\n",
        "        (\"What is the role of a cardiologist in diagnosing heart disease?\", \"A cardiologist is a heart specialist who diagnoses and treats heart disease.\"),\n",
        "    ],\n",
        "    \"risk_factors\": [\n",
        "        (\"What are the risk factors for heart disease?\", \"Risk factors include high blood pressure, high cholesterol, and smoking.\"),\n",
        "        (\"Can genetics increase the risk of heart disease?\", \"Yes, a family history of heart disease can increase the risk.\"),\n",
        "        (\"How does smoking affect the risk of heart disease?\", \"Smoking significantly increases the risk of developing heart disease.\"),\n",
        "        (\"What is the impact of high cholesterol on heart disease?\", \"High cholesterol can lead to plaque buildup in the arteries, increasing the risk of heart disease.\"),\n",
        "        (\"How does obesity contribute to heart disease?\", \"Obesity increases the risk of heart disease by causing high blood pressure, high cholesterol, and diabetes.\"),\n",
        "        (\"Can diabetes increase the risk of heart disease?\", \"Yes, people with diabetes are at a higher risk for heart disease.\"),\n",
        "        (\"What role does high blood pressure play in heart disease?\", \"High blood pressure can damage the arteries, making them more susceptible to heart disease.\"),\n",
        "        (\"How does age affect the risk of heart disease?\", \"The risk of heart disease increases with age.\"),\n",
        "        (\"Can stress increase the risk of heart disease?\", \"Chronic stress can contribute to heart disease by increasing blood pressure and other risk factors.\"),\n",
        "        (\"What is the role of physical inactivity in heart disease risk?\", \"Lack of physical activity can lead to weight gain, high blood pressure, and other risk factors for heart disease.\"),\n",
        "    ],\n",
        "    \"medications\": [\n",
        "        (\"What medications are used to treat heart disease?\", \"Common medications include statins, beta-blockers, and ACE inhibitors.\"),\n",
        "        (\"Can medication alone manage heart disease?\", \"In some cases, medication alone can manage heart disease, but lifestyle changes are also important.\"),\n",
        "        (\"What are the side effects of heart disease medications?\", \"Side effects vary by medication but can include dizziness, fatigue, and nausea.\"),\n",
        "        (\"How do statins help in heart disease?\", \"Statins help lower cholesterol levels, reducing the risk of heart disease.\"),\n",
        "        (\"What are beta-blockers?\", \"Beta-blockers are medications that reduce blood pressure and heart rate.\"),\n",
        "        (\"How do ACE inhibitors work?\", \"ACE inhibitors help relax blood vessels and reduce blood pressure.\"),\n",
        "        (\"Can aspirin help prevent heart disease?\", \"Aspirin can help prevent blood clots, which can reduce the risk of heart attacks.\"),\n",
        "        (\"What is the role of anticoagulants in heart disease?\", \"Anticoagulants help prevent blood clots, reducing the risk of stroke and heart attack.\"),\n",
        "        (\"Are there any natural supplements for heart disease?\", \"Some supplements like omega-3 fatty acids may help, but they should be used under medical supervision.\"),\n",
        "        (\"How important is medication adherence in treating heart disease?\", \"Adherence to medication is crucial to effectively manage and treat heart disease.\"),\n",
        "    ]\n",
        "}\n",
        "\n",
        "df = pd.DataFrame(data)\n",
        "df.to_csv(\"heart_disease_qa_data.csv\", index=False)\n",
        "print(\"CSV file 'heart_disease_qa_data.csv' has been created.\")\n"
      ],
      "metadata": {
        "colab": {
          "base_uri": "https://localhost:8080/"
        },
        "id": "ZVZExp6Ge1ie",
        "outputId": "c6db5faf-fc93-407b-e37a-c7b9c10b030d"
      },
      "execution_count": null,
      "outputs": [
        {
          "output_type": "stream",
          "name": "stdout",
          "text": [
            "CSV file 'heart_disease_qa_data.csv' has been created.\n"
          ]
        }
      ]
    },
    {
      "cell_type": "code",
      "source": [
        "from google.colab import drive\n",
        "drive.mount('/content/drive')"
      ],
      "metadata": {
        "colab": {
          "base_uri": "https://localhost:8080/"
        },
        "id": "ohx1zCbED5oM",
        "outputId": "afb5be59-6f91-4a4e-8e3b-7016d6f97589"
      },
      "execution_count": 21,
      "outputs": [
        {
          "output_type": "stream",
          "name": "stdout",
          "text": [
            "Drive already mounted at /content/drive; to attempt to forcibly remount, call drive.mount(\"/content/drive\", force_remount=True).\n"
          ]
        }
      ]
    },
    {
      "cell_type": "markdown",
      "source": [
        "### Loading Data Columns"
      ],
      "metadata": {
        "id": "DH3Fl2onKcxi"
      }
    },
    {
      "cell_type": "code",
      "source": [
        "# Load the dataset\n",
        "df = pd.read_csv('/content/drive/MyDrive/CardioGuardian_Chatbot/heart_disease_qa_data.csv')\n",
        "\n",
        "print(df.columns)\n"
      ],
      "metadata": {
        "colab": {
          "base_uri": "https://localhost:8080/"
        },
        "id": "GCl24vLujvzI",
        "outputId": "4ad44c29-2142-4fee-c4ae-baa8f256e097"
      },
      "execution_count": 22,
      "outputs": [
        {
          "output_type": "stream",
          "name": "stdout",
          "text": [
            "Index(['symptoms', 'treatment', 'prevention', 'diagnosis', 'risk_factors',\n",
            "       'medications'],\n",
            "      dtype='object')\n"
          ]
        }
      ]
    },
    {
      "cell_type": "markdown",
      "source": [
        "## Data Preprocessing"
      ],
      "metadata": {
        "id": "H1dRlURRyVP0"
      }
    },
    {
      "cell_type": "code",
      "source": [
        "# Load the dataset\n",
        "df = pd.read_csv('/content/drive/MyDrive/CardioGuardian_Chatbot/heart_disease_qa_data.csv')\n",
        "\n",
        "# Function to safely evaluate the string representations\n",
        "def safe_literal_eval(val):\n",
        "    try:\n",
        "        return ast.literal_eval(val)\n",
        "    except (ValueError, SyntaxError):\n",
        "        return val"
      ],
      "metadata": {
        "id": "qr6RrR5gZZzo"
      },
      "execution_count": 23,
      "outputs": []
    },
    {
      "cell_type": "markdown",
      "source": [
        "#### Creating DataFrame"
      ],
      "metadata": {
        "id": "byqBfPTvzFVb"
      }
    },
    {
      "cell_type": "code",
      "source": [
        "# Initialize an empty list to store the extracted data\n",
        "data = []\n",
        "\n",
        "# Iterate over each column (tag) in the dataframe\n",
        "for tag in df.columns:\n",
        "    # Iterate over each row in the column\n",
        "    for row in df[tag]:\n",
        "        # Convert the string representation to a tuple\n",
        "        pair = safe_literal_eval(row)\n",
        "        # Check if the converted value is a tuple and has exactly 2 elements\n",
        "        if isinstance(pair, tuple) and len(pair) == 2:\n",
        "            question, answer = pair\n",
        "            data.append((question, answer, tag))\n",
        "\n",
        "# Convert the data into a DataFrame\n",
        "flat_df = pd.DataFrame(data, columns=['questions', 'answers', 'tags'])\n",
        "\n",
        "# Print the flattened DataFrame to check its contents\n",
        "print(\"Flattened DataFrame:\")\n",
        "print(flat_df.head())"
      ],
      "metadata": {
        "colab": {
          "base_uri": "https://localhost:8080/"
        },
        "id": "xM-NbdNQzEJP",
        "outputId": "2b257787-0f60-40cf-838f-075f70a50457"
      },
      "execution_count": 24,
      "outputs": [
        {
          "output_type": "stream",
          "name": "stdout",
          "text": [
            "Flattened DataFrame:\n",
            "                                         questions  \\\n",
            "0   What are the common symptoms of heart disease?   \n",
            "1                Can heart disease cause arm pain?   \n",
            "2       What are the early signs of heart disease?   \n",
            "3                Can heart disease cause leg pain?   \n",
            "4  Are there any silent symptoms of heart disease?   \n",
            "\n",
            "                                             answers      tags  \n",
            "0  Common symptoms include chest pain, shortness ...  symptoms  \n",
            "1  Yes, heart disease can cause pain that radiate...  symptoms  \n",
            "2  Early signs include fatigue, shortness of brea...  symptoms  \n",
            "3  Yes, heart disease can cause pain in the legs,...  symptoms  \n",
            "4  Yes, some people may experience heart disease ...  symptoms  \n"
          ]
        }
      ]
    },
    {
      "cell_type": "markdown",
      "source": [
        "#### Data Cleaning"
      ],
      "metadata": {
        "id": "F9NKX2vpzOUP"
      }
    },
    {
      "cell_type": "code",
      "source": [
        "# Function for text cleaning\n",
        "def clean_text(text):\n",
        "    text = re.sub(r'\\s+', ' ', text)  # Remove extra spaces\n",
        "    text = re.sub(r'\\[.*?\\]', '', text)  # Remove text in brackets\n",
        "    text = re.sub(r'\\w*\\d\\w*', '', text)  # Remove words with numbers\n",
        "    return text.strip()\n",
        "\n",
        "# Apply the text cleaning function to the questions and answers\n",
        "flat_df['questions'] = flat_df['questions'].apply(clean_text)\n",
        "flat_df['answers'] = flat_df['answers'].apply(clean_text)"
      ],
      "metadata": {
        "id": "w4Gzw0XazQDd"
      },
      "execution_count": 25,
      "outputs": []
    },
    {
      "cell_type": "markdown",
      "source": [
        "#### Tokenization"
      ],
      "metadata": {
        "id": "D8JByfA9zjtd"
      }
    },
    {
      "cell_type": "code",
      "source": [
        "# Load BERT tokenizer\n",
        "tokenizer = BertTokenizer.from_pretrained('bert-base-uncased')\n",
        "\n",
        "# Tokenize the questions and answers\n",
        "def tokenize_data(questions, answers, tokenizer, max_len=128):\n",
        "    input_ids = []\n",
        "    attention_masks = []\n",
        "\n",
        "    for question, answer in zip(questions, answers):\n",
        "        encoded_data = tokenizer.encode_plus(\n",
        "            question,\n",
        "            answer,\n",
        "            add_special_tokens=True,\n",
        "            max_length=max_len,\n",
        "            pad_to_max_length=True,\n",
        "            return_attention_mask=True,\n",
        "            return_tensors='pt'\n",
        "        )\n",
        "        input_ids.append(encoded_data['input_ids'])\n",
        "        attention_masks.append(encoded_data['attention_mask'])\n",
        "\n",
        "    return torch.cat(input_ids, dim=0), torch.cat(attention_masks, dim=0)\n",
        "\n",
        "# Tokenize questions and answers\n",
        "input_ids, attention_masks = tokenize_data(flat_df['questions'], flat_df['answers'], tokenizer)\n",
        "\n",
        "# Check the shapes\n",
        "print(f'Input IDs shape: {input_ids.shape}')\n",
        "print(f'Attention Masks shape: {attention_masks.shape}')\n",
        "\n",
        "# Convert tags to numerical labels\n",
        "tags = flat_df['tags'].unique().tolist()\n",
        "tag_to_id = {tag: idx for idx, tag in enumerate(tags)}\n",
        "labels = flat_df['tags'].apply(lambda x: tag_to_id[x])\n",
        "\n",
        "# Convert labels to tensor\n",
        "labels = torch.tensor(labels.values)\n",
        "\n",
        "# Split the data into training and validation sets\n",
        "train_inputs, val_inputs, train_labels, val_labels = train_test_split(input_ids, labels, test_size=0.1, random_state=42)\n",
        "train_masks, val_masks = train_test_split(attention_masks, test_size=0.1, random_state=42)"
      ],
      "metadata": {
        "colab": {
          "base_uri": "https://localhost:8080/"
        },
        "id": "-EE957I6zm7t",
        "outputId": "cea32aea-7e9a-4657-a7df-ed0c74cb3052"
      },
      "execution_count": 26,
      "outputs": [
        {
          "output_type": "stream",
          "name": "stderr",
          "text": [
            "Truncation was not explicitly activated but `max_length` is provided a specific value, please use `truncation=True` to explicitly truncate examples to max length. Defaulting to 'longest_first' truncation strategy. If you encode pairs of sequences (GLUE-style) with the tokenizer you can select this strategy more precisely by providing a specific strategy to `truncation`.\n"
          ]
        },
        {
          "output_type": "stream",
          "name": "stdout",
          "text": [
            "Input IDs shape: torch.Size([60, 128])\n",
            "Attention Masks shape: torch.Size([60, 128])\n"
          ]
        }
      ]
    },
    {
      "cell_type": "markdown",
      "source": [
        "#### Creating DataLoader"
      ],
      "metadata": {
        "id": "7Lk2s6KlzueQ"
      }
    },
    {
      "cell_type": "code",
      "source": [
        "# Create DataLoader\n",
        "batch_size = 16\n",
        "\n",
        "train_data = TensorDataset(train_inputs, train_masks, train_labels)\n",
        "train_sampler = RandomSampler(train_data)\n",
        "train_dataloader = DataLoader(train_data, sampler=train_sampler, batch_size=batch_size)\n",
        "\n",
        "val_data = TensorDataset(val_inputs, val_masks, val_labels)\n",
        "val_sampler = SequentialSampler(val_data)\n",
        "val_dataloader = DataLoader(val_data, sampler=val_sampler, batch_size=batch_size)\n",
        "\n",
        "print(\"DataLoader created successfully.\")"
      ],
      "metadata": {
        "colab": {
          "base_uri": "https://localhost:8080/"
        },
        "id": "6pcTBBOdzxWE",
        "outputId": "3d41f088-5126-4030-a723-2f3ade7482c3"
      },
      "execution_count": 27,
      "outputs": [
        {
          "output_type": "stream",
          "name": "stdout",
          "text": [
            "DataLoader created successfully.\n"
          ]
        }
      ]
    },
    {
      "cell_type": "markdown",
      "source": [
        "### Fine-tuning the BERT Model"
      ],
      "metadata": {
        "id": "QDTAIVZ1LCLz"
      }
    },
    {
      "cell_type": "code",
      "source": [
        "# Check if GPU is available\n",
        "device = torch.device('cuda') if torch.cuda.is_available() else torch.device('cpu')\n",
        "print(f\"Using device: {device}\")\n",
        "\n",
        "# Load pre-trained BERT model for sequence classification with dropout\n",
        "model = BertForSequenceClassification.from_pretrained('bert-base-uncased', num_labels=len(tags))\n",
        "model.to(device)\n",
        "\n",
        "# Optimizer and learning rate scheduler\n",
        "optimizer = AdamW(model.parameters(), lr=2e-5, eps=1e-8)  # Reduced learning rate slightly\n",
        "total_steps = len(train_dataloader) * 5  # Increased epochs to 5\n",
        "scheduler = get_linear_schedule_with_warmup(optimizer, num_warmup_steps=0, num_training_steps=total_steps)\n",
        "\n",
        "# Loss function\n",
        "loss_fn = torch.nn.CrossEntropyLoss()\n",
        "\n",
        "# Training loop with gradient accumulation and early stopping\n",
        "epochs = 5\n",
        "accumulation_steps = 4  # Gradient accumulation to simulate larger batch size\n",
        "patience = 2  # Early stopping patience\n",
        "best_val_loss = float('inf')\n",
        "patience_counter = 0\n",
        "\n",
        "for epoch in range(epochs):\n",
        "    print(f\"Epoch {epoch+1}/{epochs}\")\n",
        "\n",
        "    # Training\n",
        "    model.train()\n",
        "    total_loss = 0\n",
        "    optimizer.zero_grad()\n",
        "\n",
        "    for step, batch in enumerate(tqdm(train_dataloader, desc=\"Training\")):\n",
        "        batch_input_ids, batch_attention_masks, batch_labels = tuple(t.to(device) for t in batch)\n",
        "\n",
        "        outputs = model(batch_input_ids, token_type_ids=None, attention_mask=batch_attention_masks, labels=batch_labels)\n",
        "        loss = outputs.loss / accumulation_steps  # Normalize loss to account for gradient accumulation\n",
        "        total_loss += loss.item()\n",
        "\n",
        "        loss.backward()\n",
        "\n",
        "        if (step + 1) % accumulation_steps == 0:\n",
        "            torch.nn.utils.clip_grad_norm_(model.parameters(), max_norm=1.0)\n",
        "            optimizer.step()\n",
        "            scheduler.step()\n",
        "            optimizer.zero_grad()\n",
        "\n",
        "    avg_train_loss = total_loss / len(train_dataloader)\n",
        "    print(f\"Average training loss: {avg_train_loss:.4f}\")\n",
        "\n",
        "    # Validation\n",
        "    model.eval()\n",
        "    total_eval_loss = 0\n",
        "\n",
        "    for batch in tqdm(val_dataloader, desc=\"Validation\"):\n",
        "        batch_input_ids, batch_attention_masks, batch_labels = tuple(t.to(device) for t in batch)\n",
        "\n",
        "        with torch.no_grad():\n",
        "            outputs = model(batch_input_ids, token_type_ids=None, attention_mask=batch_attention_masks, labels=batch_labels)\n",
        "\n",
        "        loss = outputs.loss\n",
        "        total_eval_loss += loss.item()\n",
        "\n",
        "    avg_val_loss = total_eval_loss / len(val_dataloader)\n",
        "    print(f\"Average validation loss: {avg_val_loss:.4f}\")\n",
        "\n",
        "    # Early stopping\n",
        "    if avg_val_loss < best_val_loss:\n",
        "        best_val_loss = avg_val_loss\n",
        "        patience_counter = 0\n",
        "        # Save the best model\n",
        "        torch.save(model.state_dict(), 'best_model.pt')\n",
        "    else:\n",
        "        patience_counter += 1\n",
        "        if patience_counter >= patience:\n",
        "            print(\"Early stopping triggered.\")\n",
        "            break\n",
        "\n",
        "# Load the best model\n",
        "model.load_state_dict(torch.load('best_model.pt'))\n"
      ],
      "metadata": {
        "colab": {
          "base_uri": "https://localhost:8080/"
        },
        "id": "nCyH3Wxko3jQ",
        "outputId": "a61f2d20-69d9-4efc-9f29-dd3ed7fe779f"
      },
      "execution_count": 28,
      "outputs": [
        {
          "output_type": "stream",
          "name": "stdout",
          "text": [
            "Using device: cpu\n"
          ]
        },
        {
          "output_type": "stream",
          "name": "stderr",
          "text": [
            "Some weights of BertForSequenceClassification were not initialized from the model checkpoint at bert-base-uncased and are newly initialized: ['classifier.bias', 'classifier.weight']\n",
            "You should probably TRAIN this model on a down-stream task to be able to use it for predictions and inference.\n"
          ]
        },
        {
          "output_type": "stream",
          "name": "stdout",
          "text": [
            "Epoch 1/5\n"
          ]
        },
        {
          "output_type": "stream",
          "name": "stderr",
          "text": [
            "Training: 100%|██████████| 4/4 [01:12<00:00, 18.24s/it]\n"
          ]
        },
        {
          "output_type": "stream",
          "name": "stdout",
          "text": [
            "Average training loss: 0.4750\n"
          ]
        },
        {
          "output_type": "stream",
          "name": "stderr",
          "text": [
            "Validation: 100%|██████████| 1/1 [00:02<00:00,  2.37s/it]\n"
          ]
        },
        {
          "output_type": "stream",
          "name": "stdout",
          "text": [
            "Average validation loss: 1.6551\n",
            "Epoch 2/5\n"
          ]
        },
        {
          "output_type": "stream",
          "name": "stderr",
          "text": [
            "Training: 100%|██████████| 4/4 [01:18<00:00, 19.63s/it]\n"
          ]
        },
        {
          "output_type": "stream",
          "name": "stdout",
          "text": [
            "Average training loss: 0.4647\n"
          ]
        },
        {
          "output_type": "stream",
          "name": "stderr",
          "text": [
            "Validation: 100%|██████████| 1/1 [00:03<00:00,  3.40s/it]\n"
          ]
        },
        {
          "output_type": "stream",
          "name": "stdout",
          "text": [
            "Average validation loss: 1.6674\n",
            "Epoch 3/5\n"
          ]
        },
        {
          "output_type": "stream",
          "name": "stderr",
          "text": [
            "Training: 100%|██████████| 4/4 [01:13<00:00, 18.26s/it]\n"
          ]
        },
        {
          "output_type": "stream",
          "name": "stdout",
          "text": [
            "Average training loss: 0.4371\n"
          ]
        },
        {
          "output_type": "stream",
          "name": "stderr",
          "text": [
            "Validation: 100%|██████████| 1/1 [00:03<00:00,  3.59s/it]\n"
          ]
        },
        {
          "output_type": "stream",
          "name": "stdout",
          "text": [
            "Average validation loss: 1.6566\n",
            "Early stopping triggered.\n"
          ]
        },
        {
          "output_type": "execute_result",
          "data": {
            "text/plain": [
              "<All keys matched successfully>"
            ]
          },
          "metadata": {},
          "execution_count": 28
        }
      ]
    },
    {
      "cell_type": "markdown",
      "source": [
        "### Evaluating the Model"
      ],
      "metadata": {
        "id": "8SEqCDpgEpxV"
      }
    },
    {
      "cell_type": "code",
      "source": [
        "# Ensure the model is in evaluation mode\n",
        "model.eval()\n",
        "\n",
        "# Initialize lists to store true labels and predictions\n",
        "true_labels = []\n",
        "predictions = []\n",
        "\n",
        "# Evaluate the model on the validation set\n",
        "for batch in tqdm(val_dataloader, desc=\"Evaluating\"):\n",
        "    batch_input_ids, batch_attention_masks, batch_labels = tuple(t.to(device) for t in batch)\n",
        "\n",
        "    with torch.no_grad():\n",
        "        outputs = model(batch_input_ids, token_type_ids=None, attention_mask=batch_attention_masks)\n",
        "\n",
        "    logits = outputs.logits\n",
        "    preds = torch.argmax(logits, dim=1).flatten()\n",
        "\n",
        "    true_labels.extend(batch_labels.cpu().numpy())\n",
        "    predictions.extend(preds.cpu().numpy())\n",
        "\n",
        "# Convert to numpy arrays\n",
        "true_labels = np.array(true_labels)\n",
        "predictions = np.array(predictions)\n",
        "\n",
        "# Calculate performance metrics\n",
        "accuracy = accuracy_score(true_labels, predictions)\n",
        "precision, recall, f1, _ = precision_recall_fscore_support(true_labels, predictions, average='weighted')\n",
        "\n",
        "# Ensure all tags are considered in the classification report\n",
        "unique_labels = np.unique(true_labels)\n",
        "report = classification_report(true_labels, predictions, labels=unique_labels, target_names=[tags[i] for i in unique_labels])\n",
        "\n",
        "# Print the classification report\n",
        "print(f\"Accuracy: {accuracy:.4f}\")\n",
        "print(f\"Precision: {precision:.4f}\")\n",
        "print(f\"Recall: {recall:.4f}\")\n",
        "print(f\"F1 Score: {f1:.4f}\")\n",
        "print(\"\\nClassification Report:\\n\", report)\n"
      ],
      "metadata": {
        "colab": {
          "base_uri": "https://localhost:8080/"
        },
        "id": "-zyM_v7KEmg-",
        "outputId": "38aefa95-dbb0-4e76-e3c0-33c97926d388"
      },
      "execution_count": 34,
      "outputs": [
        {
          "output_type": "stream",
          "name": "stderr",
          "text": [
            "Evaluating: 100%|██████████| 1/1 [00:02<00:00,  2.35s/it]"
          ]
        },
        {
          "output_type": "stream",
          "name": "stdout",
          "text": [
            "Accuracy: 0.0000\n",
            "Precision: 0.0000\n",
            "Recall: 0.0000\n",
            "F1 Score: 0.0000\n",
            "\n",
            "Classification Report:\n",
            "               precision    recall  f1-score   support\n",
            "\n",
            "    symptoms       0.00      0.00      0.00       2.0\n",
            "   treatment       0.00      0.00      0.00       1.0\n",
            "   diagnosis       0.00      0.00      0.00       1.0\n",
            "risk_factors       0.00      0.00      0.00       1.0\n",
            " medications       0.00      0.00      0.00       1.0\n",
            "\n",
            "    accuracy                           0.00       6.0\n",
            "   macro avg       0.00      0.00      0.00       6.0\n",
            "weighted avg       0.00      0.00      0.00       6.0\n",
            "\n"
          ]
        },
        {
          "output_type": "stream",
          "name": "stderr",
          "text": [
            "\n"
          ]
        }
      ]
    },
    {
      "cell_type": "markdown",
      "source": [
        "## Perfomance Metrics"
      ],
      "metadata": {
        "id": "i3mMyWyg1qK8"
      }
    },
    {
      "cell_type": "code",
      "source": [
        "# Calculate performance metrics\n",
        "accuracy = accuracy_score(true_labels, predictions)\n",
        "precision, recall, f1, _ = precision_recall_fscore_support(true_labels, predictions, average='weighted')\n",
        "\n",
        "# Ensure all tags are considered in the classification report\n",
        "unique_labels = np.unique(true_labels)\n",
        "report = classification_report(true_labels, predictions, labels=unique_labels, target_names=[tags[i] for i in unique_labels])\n",
        "\n",
        "# Print the classification report\n",
        "print(f\"Accuracy: {accuracy:.4f}\")\n",
        "print(f\"Precision: {precision:.4f}\")\n",
        "print(f\"Recall: {recall:.4f}\")\n",
        "print(f\"F1 Score: {f1:.4f}\")\n",
        "print(\"\\nClassification Report:\\n\", report)"
      ],
      "metadata": {
        "colab": {
          "base_uri": "https://localhost:8080/"
        },
        "id": "6qCfT7q61sN1",
        "outputId": "6a607e14-10e5-40d3-d7ac-d286a9169bb8"
      },
      "execution_count": 31,
      "outputs": [
        {
          "output_type": "stream",
          "name": "stdout",
          "text": [
            "Accuracy: 0.0000\n",
            "Precision: 0.0000\n",
            "Recall: 0.0000\n",
            "F1 Score: 0.0000\n",
            "\n",
            "Classification Report:\n",
            "               precision    recall  f1-score   support\n",
            "\n",
            "    symptoms       0.00      0.00      0.00       2.0\n",
            "   treatment       0.00      0.00      0.00       1.0\n",
            "   diagnosis       0.00      0.00      0.00       1.0\n",
            "risk_factors       0.00      0.00      0.00       1.0\n",
            " medications       0.00      0.00      0.00       1.0\n",
            "\n",
            "    accuracy                           0.00       6.0\n",
            "   macro avg       0.00      0.00      0.00       6.0\n",
            "weighted avg       0.00      0.00      0.00       6.0\n",
            "\n"
          ]
        }
      ]
    },
    {
      "cell_type": "markdown",
      "source": [
        "#### Confusion Matrix"
      ],
      "metadata": {
        "id": "COxhYgov1xIp"
      }
    },
    {
      "cell_type": "code",
      "source": [
        "# Confusion Matrix\n",
        "cm = confusion_matrix(true_labels, predictions, labels=unique_labels)\n",
        "plt.figure(figsize=(10, 8))\n",
        "sns.heatmap(cm, annot=True, fmt='d', cmap='Blues', xticklabels=[tags[i] for i in unique_labels], yticklabels=[tags[i] for i in unique_labels])\n",
        "plt.xlabel('Predicted')\n",
        "plt.ylabel('True')\n",
        "plt.title('Confusion Matrix')\n",
        "plt.show()"
      ],
      "metadata": {
        "colab": {
          "base_uri": "https://localhost:8080/",
          "height": 718
        },
        "id": "2DMIDpO11zZ6",
        "outputId": "b9dcc4ac-547c-47fc-d469-2b35bdc2ebac"
      },
      "execution_count": 32,
      "outputs": [
        {
          "output_type": "display_data",
          "data": {
            "text/plain": [
              "<Figure size 1000x800 with 2 Axes>"
            ],
            "image/png": "[encoded data removed]"
          },
          "metadata": {}
        }
      ]
    },
    {
      "cell_type": "markdown",
      "source": [
        "#### Error Analysis"
      ],
      "metadata": {
        "id": "D-G5oZy_13Cw"
      }
    },
    {
      "cell_type": "code",
      "source": [
        "# Error Analysis\n",
        "errors = []\n",
        "for i, (true_label, prediction) in enumerate(zip(true_labels, predictions)):\n",
        "    if true_label != prediction:\n",
        "        errors.append((flat_df.iloc[i]['questions'], flat_df.iloc[i]['answers'], tags[true_label], tags[prediction]))\n",
        "\n",
        "# Print some examples of errors\n",
        "print(\"\\nSome Error Analysis Examples:\\n\")\n",
        "for error in errors[:10]:  # Print the first 10 errors\n",
        "    print(f\"Question: {error[0]}\")\n",
        "    print(f\"Answer: {error[1]}\")\n",
        "    print(f\"True Tag: {error[2]}\")\n",
        "    print(f\"Predicted Tag: {error[3]}\")\n",
        "    print(\"\\n\")"
      ],
      "metadata": {
        "colab": {
          "base_uri": "https://localhost:8080/"
        },
        "id": "ljwiWemE14xq",
        "outputId": "28810416-98cf-422c-c01e-77b1b1cf0707"
      },
      "execution_count": 33,
      "outputs": [
        {
          "output_type": "stream",
          "name": "stdout",
          "text": [
            "\n",
            "Some Error Analysis Examples:\n",
            "\n",
            "Question: What are the common symptoms of heart disease?\n",
            "Answer: Common symptoms include chest pain, shortness of breath, and fatigue.\n",
            "True Tag: symptoms\n",
            "Predicted Tag: risk_factors\n",
            "\n",
            "\n",
            "Question: Can heart disease cause arm pain?\n",
            "Answer: Yes, heart disease can cause pain that radiates to the arm.\n",
            "True Tag: symptoms\n",
            "Predicted Tag: risk_factors\n",
            "\n",
            "\n",
            "Question: What are the early signs of heart disease?\n",
            "Answer: Early signs include fatigue, shortness of breath, and chest discomfort.\n",
            "True Tag: diagnosis\n",
            "Predicted Tag: symptoms\n",
            "\n",
            "\n",
            "Question: Can heart disease cause leg pain?\n",
            "Answer: Yes, heart disease can cause pain in the legs, especially if there is poor circulation.\n",
            "True Tag: risk_factors\n",
            "Predicted Tag: symptoms\n",
            "\n",
            "\n",
            "Question: Are there any silent symptoms of heart disease?\n",
            "Answer: Yes, some people may experience heart disease with no noticeable symptoms.\n",
            "True Tag: treatment\n",
            "Predicted Tag: symptoms\n",
            "\n",
            "\n",
            "Question: What are the symptoms of a heart attack?\n",
            "Answer: Symptoms include chest pain, shortness of breath, nausea, and lightheadedness.\n",
            "True Tag: medications\n",
            "Predicted Tag: symptoms\n",
            "\n",
            "\n"
          ]
        }
      ]
    }
  ]
}